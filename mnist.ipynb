{
 "cells": [
  {
   "cell_type": "code",
   "execution_count": 1,
   "metadata": {},
   "outputs": [],
   "source": [
    "# Importing required libraries\n",
    "\n",
    "import numpy as np\n",
    "import pandas as pd\n",
    "import matplotlib.pyplot as plt\n",
    "import seaborn as sns"
   ]
  },
  {
   "cell_type": "code",
   "execution_count": 2,
   "metadata": {},
   "outputs": [],
   "source": [
    "# Importing the dataset\n",
    "\n",
    "dataset = pd.read_csv('train.csv')\n",
    "dataset.head()\n",
    "X = dataset.iloc[:,1:].values\n",
    "y = dataset.iloc[:,0:1].values"
   ]
  },
  {
   "cell_type": "code",
   "execution_count": 4,
   "metadata": {},
   "outputs": [
    {
     "data": {
      "text/plain": [
       "Text(0.5, 1.0, 'Frequency of Digits')"
      ]
     },
     "execution_count": 4,
     "metadata": {},
     "output_type": "execute_result"
    },
    {
     "data": {
      "image/png": "[encoded data removed]",
      "text/plain": [
       "<Figure size 432x288 with 1 Axes>"
      ]
     },
     "metadata": {
      "needs_background": "light"
     },
     "output_type": "display_data"
    }
   ],
   "source": [
    "# Plotting the frequency of digits\n",
    "\n",
    "sns.countplot(dataset['label'])\n",
    "plt.title('Frequency of Digits')"
   ]
  },
  {
   "cell_type": "code",
   "execution_count": 5,
   "metadata": {},
   "outputs": [],
   "source": [
    "# Rescaling the images\n",
    "\n",
    "X = X/255"
   ]
  },
  {
   "cell_type": "code",
   "execution_count": 6,
   "metadata": {},
   "outputs": [],
   "source": [
    "# Encoding the labels\n",
    "\n",
    "from sklearn.preprocessing import OneHotEncoder\n",
    "onehotencoder = OneHotEncoder()\n",
    "y = onehotencoder.fit_transform(y).toarray()"
   ]
  },
  {
   "cell_type": "code",
   "execution_count": 7,
   "metadata": {},
   "outputs": [],
   "source": [
    "# Reshaping the images\n",
    "\n",
    "X = X.reshape(42000,28,28,1)"
   ]
  },
  {
   "cell_type": "code",
   "execution_count": 8,
   "metadata": {},
   "outputs": [
    {
     "name": "stderr",
     "output_type": "stream",
     "text": [
      "Using TensorFlow backend.\n"
     ]
    }
   ],
   "source": [
    "# Importing the libraries for our convolution neural network\n",
    "\n",
    "from keras.models import Sequential\n",
    "from keras.layers import Dense\n",
    "from keras.layers import Convolution2D\n",
    "from keras.layers import MaxPooling2D\n",
    "from keras.layers import Flatten"
   ]
  },
  {
   "cell_type": "code",
   "execution_count": 14,
   "metadata": {},
   "outputs": [
    {
     "name": "stdout",
     "output_type": "stream",
     "text": [
      "_________________________________________________________________\n",
      "Layer (type)                 Output Shape              Param #   \n",
      "=================================================================\n",
      "conv2d_11 (Conv2D)           (None, 26, 26, 32)        320       \n",
      "_________________________________________________________________\n",
      "max_pooling2d_11 (MaxPooling (None, 13, 13, 32)        0         \n",
      "_________________________________________________________________\n",
      "conv2d_12 (Conv2D)           (None, 11, 11, 32)        9248      \n",
      "_________________________________________________________________\n",
      "max_pooling2d_12 (MaxPooling (None, 5, 5, 32)          0         \n",
      "_________________________________________________________________\n",
      "flatten_6 (Flatten)          (None, 800)               0         \n",
      "_________________________________________________________________\n",
      "dense_16 (Dense)             (None, 100)               80100     \n",
      "_________________________________________________________________\n",
      "dense_17 (Dense)             (None, 100)               10100     \n",
      "_________________________________________________________________\n",
      "dense_18 (Dense)             (None, 10)                1010      \n",
      "=================================================================\n",
      "Total params: 100,778\n",
      "Trainable params: 100,778\n",
      "Non-trainable params: 0\n",
      "_________________________________________________________________\n"
     ]
    }
   ],
   "source": [
    "# Adding the layers of our convolution neural network\n",
    "\n",
    "classifier = Sequential()\n",
    "\n",
    "classifier.add(Convolution2D(32,(3,3),input_shape = (28,28,1),activation = 'relu'))\n",
    "\n",
    "classifier.add(MaxPooling2D(pool_size = (2,2)))\n",
    "\n",
    "classifier.add(Convolution2D(32,(3,3),activation = 'relu'))\n",
    "\n",
    "classifier.add(MaxPooling2D(pool_size = (2,2)))\n",
    "\n",
    "classifier.add(Flatten())\n",
    "\n",
    "classifier.add(Dense(units = 100,kernel_initializer = 'uniform',activation = 'relu'))\n",
    "\n",
    "classifier.add(Dense(units = 100,kernel_initializer = 'uniform',activation = 'relu'))\n",
    "\n",
    "classifier.add(Dense(units = 10,kernel_initializer = 'uniform',activation = 'softmax'))\n",
    "\n",
    "classifier.compile(optimizer = 'adam',loss = 'categorical_crossentropy',metrics = ['accuracy'])\n",
    "\n",
    "classifier.summary()"
   ]
  },
  {
   "cell_type": "code",
   "execution_count": 16,
   "metadata": {},
   "outputs": [
    {
     "name": "stdout",
     "output_type": "stream",
     "text": [
      "Train on 33600 samples, validate on 8400 samples\n",
      "Epoch 1/20\n",
      "33600/33600 [==============================] - 8s 235us/step - loss: 0.0072 - acc: 0.9979 - val_loss: 0.0638 - val_acc: 0.9882\n",
      "Epoch 2/20\n",
      "33600/33600 [==============================] - 8s 236us/step - loss: 0.0024 - acc: 0.9993 - val_loss: 0.0783 - val_acc: 0.9856\n",
      "Epoch 3/20\n",
      "33600/33600 [==============================] - 8s 239us/step - loss: 0.0048 - acc: 0.9985 - val_loss: 0.0658 - val_acc: 0.9877\n",
      "Epoch 4/20\n",
      "33600/33600 [==============================] - 8s 240us/step - loss: 0.0066 - acc: 0.9979 - val_loss: 0.0652 - val_acc: 0.9887\n",
      "Epoch 5/20\n",
      "33600/33600 [==============================] - 9s 262us/step - loss: 0.0038 - acc: 0.9988 - val_loss: 0.0572 - val_acc: 0.9904\n",
      "Epoch 6/20\n",
      "33600/33600 [==============================] - 8s 239us/step - loss: 0.0054 - acc: 0.9987 - val_loss: 0.0757 - val_acc: 0.9874\n",
      "Epoch 7/20\n",
      "33600/33600 [==============================] - 8s 241us/step - loss: 0.0037 - acc: 0.9989 - val_loss: 0.0600 - val_acc: 0.9907\n",
      "Epoch 8/20\n",
      "33600/33600 [==============================] - 9s 263us/step - loss: 0.0030 - acc: 0.9993 - val_loss: 0.0826 - val_acc: 0.9871\n",
      "Epoch 9/20\n",
      "33600/33600 [==============================] - 8s 250us/step - loss: 0.0038 - acc: 0.9986 - val_loss: 0.0667 - val_acc: 0.9889\n",
      "Epoch 10/20\n",
      "33600/33600 [==============================] - 8s 248us/step - loss: 0.0037 - acc: 0.9987 - val_loss: 0.0639 - val_acc: 0.9896\n",
      "Epoch 11/20\n",
      "33600/33600 [==============================] - 8s 251us/step - loss: 0.0038 - acc: 0.9992 - val_loss: 0.0978 - val_acc: 0.9857\n",
      "Epoch 12/20\n",
      "33600/33600 [==============================] - 8s 243us/step - loss: 0.0052 - acc: 0.9987 - val_loss: 0.0741 - val_acc: 0.9882\n",
      "Epoch 13/20\n",
      "33600/33600 [==============================] - 8s 243us/step - loss: 0.0046 - acc: 0.9988 - val_loss: 0.0933 - val_acc: 0.9861\n",
      "Epoch 14/20\n",
      "33600/33600 [==============================] - 8s 250us/step - loss: 0.0042 - acc: 0.9985 - val_loss: 0.0632 - val_acc: 0.9898\n",
      "Epoch 15/20\n",
      "33600/33600 [==============================] - 9s 253us/step - loss: 0.0016 - acc: 0.9996 - val_loss: 0.0824 - val_acc: 0.9877\n",
      "Epoch 16/20\n",
      "33600/33600 [==============================] - 8s 247us/step - loss: 0.0037 - acc: 0.9989 - val_loss: 0.0732 - val_acc: 0.9895\n",
      "Epoch 17/20\n",
      "33600/33600 [==============================] - 8s 239us/step - loss: 0.0038 - acc: 0.9989 - val_loss: 0.0785 - val_acc: 0.9888\n",
      "Epoch 18/20\n",
      "33600/33600 [==============================] - 8s 238us/step - loss: 0.0024 - acc: 0.9993 - val_loss: 0.0618 - val_acc: 0.9905\n",
      "Epoch 19/20\n",
      "33600/33600 [==============================] - 8s 237us/step - loss: 0.0038 - acc: 0.9990 - val_loss: 0.0678 - val_acc: 0.9899\n",
      "Epoch 20/20\n",
      "33600/33600 [==============================] - 8s 240us/step - loss: 0.0027 - acc: 0.9993 - val_loss: 0.0897 - val_acc: 0.9883\n"
     ]
    },
    {
     "data": {
      "text/plain": [
       "<keras.callbacks.History at 0x28c476d6c48>"
      ]
     },
     "execution_count": 16,
     "metadata": {},
     "output_type": "execute_result"
    }
   ],
   "source": [
    "# Fitting the data to our CNN with 20 epochs and using 20% of the data for validation\n",
    "\n",
    "classifier.fit(X,y,epochs = 20,validation_split = 0.2)"
   ]
  },
  {
   "cell_type": "code",
   "execution_count": 24,
   "metadata": {},
   "outputs": [],
   "source": [
    "y_pred = classifier.predict(X)"
   ]
  },
  {
   "cell_type": "markdown",
   "metadata": {},
   "source": [
    "After 20 epochs , our CNN model gives us 99.93% accuracy on the training set and an accuracy of 98.83% on the validation set."
   ]
  }
 ],
 "metadata": {
  "kernelspec": {
   "display_name": "Python 3",
   "language": "python",
   "name": "python3"
  },
  "language_info": {
   "codemirror_mode": {
    "name": "ipython",
    "version": 3
   },
   "file_extension": ".py",
   "mimetype": "text/x-python",
   "name": "python",
   "nbconvert_exporter": "python",
   "pygments_lexer": "ipython3",
   "version": "3.7.6"
  }
 },
 "nbformat": 4,
 "nbformat_minor": 2
}
